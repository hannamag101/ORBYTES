{
 "cells": [
  {
   "cell_type": "code",
   "execution_count": 14,
   "id": "1926b76e-053b-43d3-831c-535b0913cb51",
   "metadata": {},
   "outputs": [],
   "source": [
    "from access_api import *"
   ]
  },
  {
   "cell_type": "code",
   "execution_count": 16,
   "id": "85f21817-04f5-4e9d-af74-91c4b6a11815",
   "metadata": {},
   "outputs": [],
   "source": [
    "obj = setup_files('hanna', 'hanna.adamski@yale.edu', 'Astronomymajor101!')"
   ]
  },
  {
   "cell_type": "code",
   "execution_count": 17,
   "id": "0badf762-7db3-4dff-9e74-3b72c36c6054",
   "metadata": {},
   "outputs": [],
   "source": [
    "obj.create_ini()"
   ]
  },
  {
   "cell_type": "code",
   "execution_count": 18,
   "id": "e38d4d75-6165-4cac-94a7-87dca0279c62",
   "metadata": {},
   "outputs": [],
   "source": [
    "sign = obj.access_ini()"
   ]
  },
  {
   "cell_type": "code",
   "execution_count": 24,
   "id": "72e0e803-3ce0-45e3-a185-9d56fb7a873c",
   "metadata": {},
   "outputs": [],
   "source": [
    "query_str = obj.extract_csv('TOP_20_STARLINK', generate = True, orderby = 'OBJECT_ID', OBJECT_NAME = '~~STARLINK', limit = '20')"
   ]
  },
  {
   "cell_type": "code",
   "execution_count": 26,
   "id": "ded758c1-01da-48c0-8f3d-4b5dd18fd0a4",
   "metadata": {},
   "outputs": [
    {
     "ename": "SyntaxError",
     "evalue": "invalid syntax (spacetrack.py, line 11)",
     "output_type": "error",
     "traceback": [
      "Traceback \u001b[0;36m(most recent call last)\u001b[0m:\n",
      "  File \u001b[1;32m\"/Users/hannamag/opt/anaconda3/lib/python3.9/site-packages/IPython/core/interactiveshell.py\"\u001b[0m, line \u001b[1;32m3457\u001b[0m, in \u001b[1;35mrun_code\u001b[0m\n    exec(code_obj, self.user_global_ns, self.user_ns)\n",
      "\u001b[0;36m  File \u001b[0;32m\"/var/folders/83/0n4mynhn75q_ykn90x0k_7jw0000gn/T/ipykernel_43041/692694664.py\"\u001b[0;36m, line \u001b[0;32m1\u001b[0;36m, in \u001b[0;35m<module>\u001b[0;36m\u001b[0m\n\u001b[0;31m    from spacetrack import *\u001b[0m\n",
      "\u001b[0;36m  File \u001b[0;32m\"/Users/hannamag/Desktop/ORBYTES/ORBYTES/spacetrack.py\"\u001b[0;36m, line \u001b[0;32m11\u001b[0m\n\u001b[0;31m    %matplotlib qt\u001b[0m\n\u001b[0m    ^\u001b[0m\n\u001b[0;31mSyntaxError\u001b[0m\u001b[0;31m:\u001b[0m invalid syntax\n"
     ]
    }
   ],
   "source": [
    "from spacetrack import *"
   ]
  },
  {
   "cell_type": "code",
   "execution_count": null,
   "id": "95b3283f-ccef-476c-a5b7-9db3ddf57f88",
   "metadata": {},
   "outputs": [],
   "source": []
  }
 ],
 "metadata": {
  "kernelspec": {
   "display_name": "Python 3 (ipykernel)",
   "language": "python",
   "name": "python3"
  },
  "language_info": {
   "codemirror_mode": {
    "name": "ipython",
    "version": 3
   },
   "file_extension": ".py",
   "mimetype": "text/x-python",
   "name": "python",
   "nbconvert_exporter": "python",
   "pygments_lexer": "ipython3",
   "version": "3.9.13"
  }
 },
 "nbformat": 4,
 "nbformat_minor": 5
}
