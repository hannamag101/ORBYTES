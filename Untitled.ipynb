{
 "cells": [
  {
   "cell_type": "code",
   "execution_count": 1,
   "id": "7a53ca91-6ea9-4376-8209-965970df25fd",
   "metadata": {},
   "outputs": [
    {
     "name": "stdout",
     "output_type": "stream",
     "text": [
      "Obtaining file:///Users/hannamag/Desktop/ORBYTES\n",
      "  Preparing metadata (setup.py) ... \u001b[?25lerror\n",
      "  \u001b[1;31merror\u001b[0m: \u001b[1msubprocess-exited-with-error\u001b[0m\n",
      "  \n",
      "  \u001b[31m×\u001b[0m \u001b[32mpython setup.py egg_info\u001b[0m did not run successfully.\n",
      "  \u001b[31m│\u001b[0m exit code: \u001b[1;36m1\u001b[0m\n",
      "  \u001b[31m╰─>\u001b[0m \u001b[31m[8 lines of output]\u001b[0m\n",
      "  \u001b[31m   \u001b[0m running egg_info\n",
      "  \u001b[31m   \u001b[0m creating /private/var/folders/83/0n4mynhn75q_ykn90x0k_7jw0000gn/T/pip-pip-egg-info-x5_3jtew/ORBYTES.egg-info\n",
      "  \u001b[31m   \u001b[0m writing /private/var/folders/83/0n4mynhn75q_ykn90x0k_7jw0000gn/T/pip-pip-egg-info-x5_3jtew/ORBYTES.egg-info/PKG-INFO\n",
      "  \u001b[31m   \u001b[0m writing dependency_links to /private/var/folders/83/0n4mynhn75q_ykn90x0k_7jw0000gn/T/pip-pip-egg-info-x5_3jtew/ORBYTES.egg-info/dependency_links.txt\n",
      "  \u001b[31m   \u001b[0m writing requirements to /private/var/folders/83/0n4mynhn75q_ykn90x0k_7jw0000gn/T/pip-pip-egg-info-x5_3jtew/ORBYTES.egg-info/requires.txt\n",
      "  \u001b[31m   \u001b[0m writing top-level names to /private/var/folders/83/0n4mynhn75q_ykn90x0k_7jw0000gn/T/pip-pip-egg-info-x5_3jtew/ORBYTES.egg-info/top_level.txt\n",
      "  \u001b[31m   \u001b[0m writing manifest file '/private/var/folders/83/0n4mynhn75q_ykn90x0k_7jw0000gn/T/pip-pip-egg-info-x5_3jtew/ORBYTES.egg-info/SOURCES.txt'\n",
      "  \u001b[31m   \u001b[0m error: package directory 'ORBYTES' does not exist\n",
      "  \u001b[31m   \u001b[0m \u001b[31m[end of output]\u001b[0m\n",
      "  \n",
      "  \u001b[1;35mnote\u001b[0m: This error originates from a subprocess, and is likely not a problem with pip.\n",
      "\u001b[1;31merror\u001b[0m: \u001b[1mmetadata-generation-failed\u001b[0m\n",
      "\n",
      "\u001b[31m×\u001b[0m Encountered error while generating package metadata.\n",
      "\u001b[31m╰─>\u001b[0m See above for output.\n",
      "\n",
      "\u001b[1;35mnote\u001b[0m: This is an issue with the package mentioned above, not pip.\n",
      "\u001b[1;36mhint\u001b[0m: See above for details.\n",
      "\u001b[?25hNote: you may need to restart the kernel to use updated packages.\n"
     ]
    }
   ],
   "source": [
    "pip install -e ."
   ]
  },
  {
   "cell_type": "code",
   "execution_count": 2,
   "id": "a59fd39f-a239-42e8-9189-dce6ef904597",
   "metadata": {},
   "outputs": [
    {
     "name": "stdout",
     "output_type": "stream",
     "text": [
      "Obtaining file:///Users/hannamag/Desktop/ORBYTES\n",
      "  Preparing metadata (setup.py) ... \u001b[?25ldone\n",
      "\u001b[?25hRequirement already satisfied: numpy in /Users/hannamag/opt/anaconda3/lib/python3.9/site-packages (from ORBYTES==0.1) (1.24.2)\n",
      "Requirement already satisfied: matplotlib in /Users/hannamag/opt/anaconda3/lib/python3.9/site-packages (from ORBYTES==0.1) (3.5.2)\n",
      "Requirement already satisfied: pandas in /Users/hannamag/opt/anaconda3/lib/python3.9/site-packages (from ORBYTES==0.1) (1.5.3)\n",
      "Requirement already satisfied: configparser in /Users/hannamag/opt/anaconda3/lib/python3.9/site-packages (from ORBYTES==0.1) (5.3.0)\n",
      "Requirement already satisfied: streamlit in /Users/hannamag/opt/anaconda3/lib/python3.9/site-packages (from ORBYTES==0.1) (1.19.0)\n",
      "Requirement already satisfied: mpltools in /Users/hannamag/opt/anaconda3/lib/python3.9/site-packages (from ORBYTES==0.1) (0.2.0)\n",
      "Requirement already satisfied: rebound in /Users/hannamag/opt/anaconda3/lib/python3.9/site-packages (from ORBYTES==0.1) (3.24.3)\n",
      "Requirement already satisfied: mpld3 in /Users/hannamag/opt/anaconda3/lib/python3.9/site-packages (from ORBYTES==0.1) (0.5.9)\n",
      "Requirement already satisfied: Pillow in /Users/hannamag/opt/anaconda3/lib/python3.9/site-packages (from ORBYTES==0.1) (9.2.0)\n",
      "Requirement already satisfied: python-dateutil>=2.7 in /Users/hannamag/opt/anaconda3/lib/python3.9/site-packages (from matplotlib->ORBYTES==0.1) (2.8.2)\n",
      "Requirement already satisfied: fonttools>=4.22.0 in /Users/hannamag/opt/anaconda3/lib/python3.9/site-packages (from matplotlib->ORBYTES==0.1) (4.25.0)\n",
      "Requirement already satisfied: kiwisolver>=1.0.1 in /Users/hannamag/opt/anaconda3/lib/python3.9/site-packages (from matplotlib->ORBYTES==0.1) (1.4.2)\n",
      "Requirement already satisfied: pyparsing>=2.2.1 in /Users/hannamag/opt/anaconda3/lib/python3.9/site-packages (from matplotlib->ORBYTES==0.1) (3.0.9)\n",
      "Requirement already satisfied: packaging>=20.0 in /Users/hannamag/opt/anaconda3/lib/python3.9/site-packages (from matplotlib->ORBYTES==0.1) (21.3)\n",
      "Requirement already satisfied: cycler>=0.10 in /Users/hannamag/opt/anaconda3/lib/python3.9/site-packages (from matplotlib->ORBYTES==0.1) (0.11.0)\n",
      "Requirement already satisfied: jinja2 in /Users/hannamag/opt/anaconda3/lib/python3.9/site-packages (from mpld3->ORBYTES==0.1) (3.1.2)\n",
      "Requirement already satisfied: future>=0.12.4 in /Users/hannamag/opt/anaconda3/lib/python3.9/site-packages (from mpltools->ORBYTES==0.1) (0.18.2)\n",
      "Requirement already satisfied: configobj>=4.4.0 in /Users/hannamag/opt/anaconda3/lib/python3.9/site-packages (from mpltools->ORBYTES==0.1) (5.0.8)\n",
      "Requirement already satisfied: pytz>=2020.1 in /Users/hannamag/opt/anaconda3/lib/python3.9/site-packages (from pandas->ORBYTES==0.1) (2022.1)\n",
      "Requirement already satisfied: pydeck>=0.1.dev5 in /Users/hannamag/opt/anaconda3/lib/python3.9/site-packages (from streamlit->ORBYTES==0.1) (0.8.0)\n",
      "Requirement already satisfied: importlib-metadata>=1.4 in /Users/hannamag/opt/anaconda3/lib/python3.9/site-packages (from streamlit->ORBYTES==0.1) (4.11.3)\n",
      "Requirement already satisfied: typing-extensions>=3.10.0.0 in /Users/hannamag/opt/anaconda3/lib/python3.9/site-packages (from streamlit->ORBYTES==0.1) (4.3.0)\n",
      "Requirement already satisfied: semver in /Users/hannamag/opt/anaconda3/lib/python3.9/site-packages (from streamlit->ORBYTES==0.1) (2.13.0)\n",
      "Requirement already satisfied: pympler>=0.9 in /Users/hannamag/opt/anaconda3/lib/python3.9/site-packages (from streamlit->ORBYTES==0.1) (1.0.1)\n",
      "Requirement already satisfied: validators>=0.2 in /Users/hannamag/opt/anaconda3/lib/python3.9/site-packages (from streamlit->ORBYTES==0.1) (0.20.0)\n",
      "Requirement already satisfied: cachetools>=4.0 in /Users/hannamag/opt/anaconda3/lib/python3.9/site-packages (from streamlit->ORBYTES==0.1) (5.3.0)\n",
      "Requirement already satisfied: gitpython!=3.1.19 in /Users/hannamag/opt/anaconda3/lib/python3.9/site-packages (from streamlit->ORBYTES==0.1) (3.1.31)\n",
      "Requirement already satisfied: blinker>=1.0.0 in /Users/hannamag/opt/anaconda3/lib/python3.9/site-packages (from streamlit->ORBYTES==0.1) (1.5)\n",
      "Requirement already satisfied: pyarrow>=4.0 in /Users/hannamag/opt/anaconda3/lib/python3.9/site-packages (from streamlit->ORBYTES==0.1) (11.0.0)\n",
      "Requirement already satisfied: altair>=3.2.0 in /Users/hannamag/opt/anaconda3/lib/python3.9/site-packages (from streamlit->ORBYTES==0.1) (4.2.2)\n",
      "Requirement already satisfied: toml in /Users/hannamag/opt/anaconda3/lib/python3.9/site-packages (from streamlit->ORBYTES==0.1) (0.10.2)\n",
      "Requirement already satisfied: tzlocal>=1.1 in /Users/hannamag/opt/anaconda3/lib/python3.9/site-packages (from streamlit->ORBYTES==0.1) (4.2)\n",
      "Requirement already satisfied: requests>=2.4 in /Users/hannamag/opt/anaconda3/lib/python3.9/site-packages (from streamlit->ORBYTES==0.1) (2.28.1)\n",
      "Requirement already satisfied: click>=7.0 in /Users/hannamag/opt/anaconda3/lib/python3.9/site-packages (from streamlit->ORBYTES==0.1) (8.0.4)\n",
      "Requirement already satisfied: rich>=10.11.0 in /Users/hannamag/opt/anaconda3/lib/python3.9/site-packages (from streamlit->ORBYTES==0.1) (13.3.2)\n",
      "Requirement already satisfied: protobuf<4,>=3.12 in /Users/hannamag/opt/anaconda3/lib/python3.9/site-packages (from streamlit->ORBYTES==0.1) (3.20.3)\n",
      "Requirement already satisfied: tornado>=6.0.3 in /Users/hannamag/opt/anaconda3/lib/python3.9/site-packages (from streamlit->ORBYTES==0.1) (6.1)\n",
      "Requirement already satisfied: jsonschema>=3.0 in /Users/hannamag/opt/anaconda3/lib/python3.9/site-packages (from altair>=3.2.0->streamlit->ORBYTES==0.1) (4.16.0)\n",
      "Requirement already satisfied: toolz in /Users/hannamag/opt/anaconda3/lib/python3.9/site-packages (from altair>=3.2.0->streamlit->ORBYTES==0.1) (0.11.2)\n",
      "Requirement already satisfied: entrypoints in /Users/hannamag/opt/anaconda3/lib/python3.9/site-packages (from altair>=3.2.0->streamlit->ORBYTES==0.1) (0.4)\n",
      "Requirement already satisfied: six in /Users/hannamag/opt/anaconda3/lib/python3.9/site-packages (from configobj>=4.4.0->mpltools->ORBYTES==0.1) (1.11.0)\n",
      "Requirement already satisfied: gitdb<5,>=4.0.1 in /Users/hannamag/opt/anaconda3/lib/python3.9/site-packages (from gitpython!=3.1.19->streamlit->ORBYTES==0.1) (4.0.10)\n",
      "Requirement already satisfied: zipp>=0.5 in /Users/hannamag/opt/anaconda3/lib/python3.9/site-packages (from importlib-metadata>=1.4->streamlit->ORBYTES==0.1) (3.8.0)\n",
      "Requirement already satisfied: MarkupSafe>=2.0 in /Users/hannamag/opt/anaconda3/lib/python3.9/site-packages (from jinja2->mpld3->ORBYTES==0.1) (2.1.2)\n",
      "Requirement already satisfied: urllib3<1.27,>=1.21.1 in /Users/hannamag/opt/anaconda3/lib/python3.9/site-packages (from requests>=2.4->streamlit->ORBYTES==0.1) (1.26.11)\n",
      "Requirement already satisfied: idna<4,>=2.5 in /Users/hannamag/opt/anaconda3/lib/python3.9/site-packages (from requests>=2.4->streamlit->ORBYTES==0.1) (3.3)\n",
      "Requirement already satisfied: certifi>=2017.4.17 in /Users/hannamag/opt/anaconda3/lib/python3.9/site-packages (from requests>=2.4->streamlit->ORBYTES==0.1) (2022.9.24)\n",
      "Requirement already satisfied: charset-normalizer<3,>=2 in /Users/hannamag/opt/anaconda3/lib/python3.9/site-packages (from requests>=2.4->streamlit->ORBYTES==0.1) (2.0.4)\n",
      "Requirement already satisfied: pygments<3.0.0,>=2.13.0 in /Users/hannamag/opt/anaconda3/lib/python3.9/site-packages (from rich>=10.11.0->streamlit->ORBYTES==0.1) (2.14.0)\n",
      "Requirement already satisfied: markdown-it-py<3.0.0,>=2.2.0 in /Users/hannamag/opt/anaconda3/lib/python3.9/site-packages (from rich>=10.11.0->streamlit->ORBYTES==0.1) (2.2.0)\n",
      "Requirement already satisfied: pytz-deprecation-shim in /Users/hannamag/opt/anaconda3/lib/python3.9/site-packages (from tzlocal>=1.1->streamlit->ORBYTES==0.1) (0.1.0.post0)\n",
      "Requirement already satisfied: decorator>=3.4.0 in /Users/hannamag/opt/anaconda3/lib/python3.9/site-packages (from validators>=0.2->streamlit->ORBYTES==0.1) (5.1.1)\n",
      "Requirement already satisfied: smmap<6,>=3.0.1 in /Users/hannamag/opt/anaconda3/lib/python3.9/site-packages (from gitdb<5,>=4.0.1->gitpython!=3.1.19->streamlit->ORBYTES==0.1) (5.0.0)\n",
      "Requirement already satisfied: pyrsistent!=0.17.0,!=0.17.1,!=0.17.2,>=0.14.0 in /Users/hannamag/opt/anaconda3/lib/python3.9/site-packages (from jsonschema>=3.0->altair>=3.2.0->streamlit->ORBYTES==0.1) (0.18.0)\n",
      "Requirement already satisfied: attrs>=17.4.0 in /Users/hannamag/opt/anaconda3/lib/python3.9/site-packages (from jsonschema>=3.0->altair>=3.2.0->streamlit->ORBYTES==0.1) (21.4.0)\n",
      "Requirement already satisfied: mdurl~=0.1 in /Users/hannamag/opt/anaconda3/lib/python3.9/site-packages (from markdown-it-py<3.0.0,>=2.2.0->rich>=10.11.0->streamlit->ORBYTES==0.1) (0.1.2)\n",
      "Requirement already satisfied: tzdata in /Users/hannamag/opt/anaconda3/lib/python3.9/site-packages (from pytz-deprecation-shim->tzlocal>=1.1->streamlit->ORBYTES==0.1) (2022.7)\n",
      "Installing collected packages: ORBYTES\n",
      "  Running setup.py develop for ORBYTES\n",
      "Successfully installed ORBYTES-0.1\n",
      "Note: you may need to restart the kernel to use updated packages.\n"
     ]
    }
   ],
   "source": [
    "pip install -e ."
   ]
  },
  {
   "cell_type": "code",
   "execution_count": null,
   "id": "9d96b552-2e64-44b1-b960-d1ba21f95cfa",
   "metadata": {},
   "outputs": [],
   "source": []
  }
 ],
 "metadata": {
  "kernelspec": {
   "display_name": "Python 3 (ipykernel)",
   "language": "python",
   "name": "python3"
  },
  "language_info": {
   "codemirror_mode": {
    "name": "ipython",
    "version": 3
   },
   "file_extension": ".py",
   "mimetype": "text/x-python",
   "name": "python",
   "nbconvert_exporter": "python",
   "pygments_lexer": "ipython3",
   "version": "3.9.13"
  }
 },
 "nbformat": 4,
 "nbformat_minor": 5
}
